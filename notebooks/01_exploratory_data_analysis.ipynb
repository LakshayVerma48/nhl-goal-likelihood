{
 "cells": [
  {
   "cell_type": "markdown",
   "metadata": {},
   "source": [
    "<h1>Exploratory Analysis Notebook</h1>\n",
    "<p>Purpose: This notebook will be used to explore the dataset, understand all of the feature present, and see how they correlate with eachother</p>\n",
    "<hr>"
   ]
  },
  {
   "cell_type": "markdown",
   "metadata": {},
   "source": [
    "<h2>Packages</h2>"
   ]
  },
  {
   "cell_type": "code",
   "execution_count": 2,
   "metadata": {},
   "outputs": [],
   "source": [
    "# Packages\n",
    "\n",
    "from nhldata import moneypuck\n",
    "import pandas as pd\n",
    "import numpy as np\n",
    "\n",
    "pd.set_option('display.max_columns', None) "
   ]
  },
  {
   "cell_type": "code",
   "execution_count": 3,
   "metadata": {},
   "outputs": [],
   "source": [
    "# Establish connection to NHL Shots Data\n",
    "mp_conn = moneypuck.Connector()\n",
    "\n",
    "shots = mp_conn.shots_season(\n",
    "    season = 2024\n",
    ")\n",
    "\n",
    "shots_df = pd.DataFrame(shots)"
   ]
  },
  {
   "cell_type": "markdown",
   "metadata": {},
   "source": [
    "<h2>Examine Dataset<h2>"
   ]
  },
  {
   "cell_type": "code",
   "execution_count": 4,
   "metadata": {},
   "outputs": [
    {
     "data": {
      "text/plain": [
       "(117829, 137)"
      ]
     },
     "execution_count": 4,
     "metadata": {},
     "output_type": "execute_result"
    }
   ],
   "source": [
    "shots_df.shape"
   ]
  },
  {
   "cell_type": "code",
   "execution_count": 5,
   "metadata": {},
   "outputs": [
    {
     "name": "stdout",
     "output_type": "stream",
     "text": [
      "<class 'pandas.core.frame.DataFrame'>\n",
      "RangeIndex: 117829 entries, 0 to 117828\n",
      "Columns: 137 entries, shotID to yCordAdjusted\n",
      "dtypes: object(137)\n",
      "memory usage: 123.2+ MB\n"
     ]
    }
   ],
   "source": [
    "shots_df.info()"
   ]
  },
  {
   "cell_type": "markdown",
   "metadata": {},
   "source": [
    "Given the large nature of this dataset (on a feature basis), `df.info()` has truncated the output. We can still see, however, that there are 137 columns, all of type `object`. We will check for missing data in the next cell"
   ]
  },
  {
   "cell_type": "code",
   "execution_count": 6,
   "metadata": {},
   "outputs": [
    {
     "name": "stdout",
     "output_type": "stream",
     "text": [
      "Checking for missing data: \n",
      "==================================================\n"
     ]
    },
    {
     "data": {
      "text/plain": [
       "shotID                       0\n",
       "arenaAdjustedShotDistance    0\n",
       "arenaAdjustedXCord           0\n",
       "arenaAdjustedXCordABS        0\n",
       "arenaAdjustedYCord           0\n",
       "arenaAdjustedYCordAbs        0\n",
       "averageRestDifference        0\n",
       "awayEmptyNet                 0\n",
       "awayPenalty1Length           0\n",
       "awayPenalty1TimeLeft         0\n",
       "dtype: int64"
      ]
     },
     "execution_count": 6,
     "metadata": {},
     "output_type": "execute_result"
    }
   ],
   "source": [
    "print('Checking for missing data: ')\n",
    "print('=' * 50)\n",
    "\n",
    "shots_df.isnull().sum().sort_values(ascending=False).head(10)"
   ]
  },
  {
   "cell_type": "markdown",
   "metadata": {},
   "source": [
    "The count of null rows was sorted in a descending order, and the first 10 values were displayed. Given that they are 0, it's clear that there is no missing data in not only these columns, but all other columns (because of the fact that the `isnull()` record count was sorted in a descending order)."
   ]
  },
  {
   "cell_type": "markdown",
   "metadata": {},
   "source": [
    "<h2>Features</h2>"
   ]
  },
  {
   "cell_type": "markdown",
   "metadata": {},
   "source": [
    "<p>Given there are no null values, let's spend some time looking through the features we have available.</p>\n",
    "<p>The complete list of features can be found <a href='https://docs.google.com/spreadsheets/d/1aB-AkJJMTEPhb4oBCyOv-kJr11sOXW5MQtMjBeNss-Y/edit?gid=241218541#gid=241218541'>here.</a>"
   ]
  },
  {
   "cell_type": "code",
   "execution_count": 8,
   "metadata": {},
   "outputs": [
    {
     "data": {
      "text/html": [
       "<div>\n",
       "<style scoped>\n",
       "    .dataframe tbody tr th:only-of-type {\n",
       "        vertical-align: middle;\n",
       "    }\n",
       "\n",
       "    .dataframe tbody tr th {\n",
       "        vertical-align: top;\n",
       "    }\n",
       "\n",
       "    .dataframe thead th {\n",
       "        text-align: right;\n",
       "    }\n",
       "</style>\n",
       "<table border=\"1\" class=\"dataframe\">\n",
       "  <thead>\n",
       "    <tr style=\"text-align: right;\">\n",
       "      <th></th>\n",
       "      <th>homeTeamCode</th>\n",
       "      <th>awayTeamCode</th>\n",
       "      <th>isPlayoffGame</th>\n",
       "      <th>time</th>\n",
       "      <th>period</th>\n",
       "      <th>team</th>\n",
       "      <th>location</th>\n",
       "      <th>event</th>\n",
       "      <th>goal</th>\n",
       "      <th>xCord</th>\n",
       "      <th>yCord</th>\n",
       "      <th>shotAngle</th>\n",
       "      <th>shotDistance</th>\n",
       "      <th>shotType</th>\n",
       "      <th>shotOnEmptyNet</th>\n",
       "      <th>shotRebound</th>\n",
       "      <th>shotRush</th>\n",
       "      <th>homeEmptyNet</th>\n",
       "      <th>awayEmptyNet</th>\n",
       "      <th>playerPositionThatDidEvent</th>\n",
       "      <th>goalieIdForShot</th>\n",
       "      <th>shooterPlayerId</th>\n",
       "      <th>shooterLeftRight</th>\n",
       "      <th>shooterTimeOnIce</th>\n",
       "      <th>offWing</th>\n",
       "      <th>isHomeTeam</th>\n",
       "      <th>teamCode</th>\n",
       "    </tr>\n",
       "  </thead>\n",
       "  <tbody>\n",
       "    <tr>\n",
       "      <th>0</th>\n",
       "      <td>BUF</td>\n",
       "      <td>NJD</td>\n",
       "      <td>0</td>\n",
       "      <td>8</td>\n",
       "      <td>1</td>\n",
       "      <td>AWAY</td>\n",
       "      <td>HOMEZONE</td>\n",
       "      <td>SHOT</td>\n",
       "      <td>0</td>\n",
       "      <td>57</td>\n",
       "      <td>-40</td>\n",
       "      <td>-51.3401917459</td>\n",
       "      <td>51.2249938995</td>\n",
       "      <td>WRIST</td>\n",
       "      <td>0</td>\n",
       "      <td>0</td>\n",
       "      <td>0</td>\n",
       "      <td>0</td>\n",
       "      <td>0</td>\n",
       "      <td>D</td>\n",
       "      <td>8480045</td>\n",
       "      <td>8483495</td>\n",
       "      <td></td>\n",
       "      <td>8</td>\n",
       "      <td>0</td>\n",
       "      <td>0.0</td>\n",
       "      <td>NJD</td>\n",
       "    </tr>\n",
       "    <tr>\n",
       "      <th>1</th>\n",
       "      <td>BUF</td>\n",
       "      <td>NJD</td>\n",
       "      <td>0</td>\n",
       "      <td>29</td>\n",
       "      <td>1</td>\n",
       "      <td>AWAY</td>\n",
       "      <td>HOMEZONE</td>\n",
       "      <td>MISS</td>\n",
       "      <td>0</td>\n",
       "      <td>71</td>\n",
       "      <td>-28</td>\n",
       "      <td>-57.2647737279</td>\n",
       "      <td>33.2866339542</td>\n",
       "      <td>WRIST</td>\n",
       "      <td>0</td>\n",
       "      <td>0</td>\n",
       "      <td>0</td>\n",
       "      <td>0</td>\n",
       "      <td>0</td>\n",
       "      <td>L</td>\n",
       "      <td>8480045</td>\n",
       "      <td>8479407</td>\n",
       "      <td>L</td>\n",
       "      <td>7</td>\n",
       "      <td>1</td>\n",
       "      <td>0.0</td>\n",
       "      <td>NJD</td>\n",
       "    </tr>\n",
       "    <tr>\n",
       "      <th>2</th>\n",
       "      <td>BUF</td>\n",
       "      <td>NJD</td>\n",
       "      <td>0</td>\n",
       "      <td>40</td>\n",
       "      <td>1</td>\n",
       "      <td>AWAY</td>\n",
       "      <td>HOMEZONE</td>\n",
       "      <td>SHOT</td>\n",
       "      <td>0</td>\n",
       "      <td>48</td>\n",
       "      <td>-24</td>\n",
       "      <td>-30.3432488842</td>\n",
       "      <td>47.5078940809</td>\n",
       "      <td>SLAP</td>\n",
       "      <td>0</td>\n",
       "      <td>0</td>\n",
       "      <td>0</td>\n",
       "      <td>0</td>\n",
       "      <td>0</td>\n",
       "      <td>D</td>\n",
       "      <td>8480045</td>\n",
       "      <td>8476462</td>\n",
       "      <td>R</td>\n",
       "      <td>11</td>\n",
       "      <td>0</td>\n",
       "      <td>0.0</td>\n",
       "      <td>NJD</td>\n",
       "    </tr>\n",
       "    <tr>\n",
       "      <th>3</th>\n",
       "      <td>BUF</td>\n",
       "      <td>NJD</td>\n",
       "      <td>0</td>\n",
       "      <td>62</td>\n",
       "      <td>1</td>\n",
       "      <td>HOME</td>\n",
       "      <td>AWAYZONE</td>\n",
       "      <td>SHOT</td>\n",
       "      <td>0</td>\n",
       "      <td>-41</td>\n",
       "      <td>-31</td>\n",
       "      <td>32.8557219504</td>\n",
       "      <td>57.1401785086</td>\n",
       "      <td>WRIST</td>\n",
       "      <td>0</td>\n",
       "      <td>0</td>\n",
       "      <td>0</td>\n",
       "      <td>0</td>\n",
       "      <td>0</td>\n",
       "      <td>R</td>\n",
       "      <td>8474593</td>\n",
       "      <td>8482175</td>\n",
       "      <td>L</td>\n",
       "      <td>41</td>\n",
       "      <td>0</td>\n",
       "      <td>1.0</td>\n",
       "      <td>BUF</td>\n",
       "    </tr>\n",
       "    <tr>\n",
       "      <th>4</th>\n",
       "      <td>BUF</td>\n",
       "      <td>NJD</td>\n",
       "      <td>0</td>\n",
       "      <td>66</td>\n",
       "      <td>1</td>\n",
       "      <td>HOME</td>\n",
       "      <td>AWAYZONE</td>\n",
       "      <td>MISS</td>\n",
       "      <td>0</td>\n",
       "      <td>-36</td>\n",
       "      <td>15</td>\n",
       "      <td>-15.8025139539</td>\n",
       "      <td>55.0817574157</td>\n",
       "      <td>SLAP</td>\n",
       "      <td>0</td>\n",
       "      <td>0</td>\n",
       "      <td>0</td>\n",
       "      <td>0</td>\n",
       "      <td>0</td>\n",
       "      <td>D</td>\n",
       "      <td>8474593</td>\n",
       "      <td>8482671</td>\n",
       "      <td>L</td>\n",
       "      <td>15</td>\n",
       "      <td>1</td>\n",
       "      <td>1.0</td>\n",
       "      <td>BUF</td>\n",
       "    </tr>\n",
       "  </tbody>\n",
       "</table>\n",
       "</div>"
      ],
      "text/plain": [
       "  homeTeamCode awayTeamCode isPlayoffGame time period  team  location event  \\\n",
       "0          BUF          NJD             0    8      1  AWAY  HOMEZONE  SHOT   \n",
       "1          BUF          NJD             0   29      1  AWAY  HOMEZONE  MISS   \n",
       "2          BUF          NJD             0   40      1  AWAY  HOMEZONE  SHOT   \n",
       "3          BUF          NJD             0   62      1  HOME  AWAYZONE  SHOT   \n",
       "4          BUF          NJD             0   66      1  HOME  AWAYZONE  MISS   \n",
       "\n",
       "  goal xCord yCord       shotAngle   shotDistance shotType shotOnEmptyNet  \\\n",
       "0    0    57   -40  -51.3401917459  51.2249938995    WRIST              0   \n",
       "1    0    71   -28  -57.2647737279  33.2866339542    WRIST              0   \n",
       "2    0    48   -24  -30.3432488842  47.5078940809     SLAP              0   \n",
       "3    0   -41   -31   32.8557219504  57.1401785086    WRIST              0   \n",
       "4    0   -36    15  -15.8025139539  55.0817574157     SLAP              0   \n",
       "\n",
       "  shotRebound shotRush homeEmptyNet awayEmptyNet playerPositionThatDidEvent  \\\n",
       "0           0        0            0            0                          D   \n",
       "1           0        0            0            0                          L   \n",
       "2           0        0            0            0                          D   \n",
       "3           0        0            0            0                          R   \n",
       "4           0        0            0            0                          D   \n",
       "\n",
       "  goalieIdForShot shooterPlayerId shooterLeftRight shooterTimeOnIce offWing  \\\n",
       "0         8480045         8483495                                 8       0   \n",
       "1         8480045         8479407                L                7       1   \n",
       "2         8480045         8476462                R               11       0   \n",
       "3         8474593         8482175                L               41       0   \n",
       "4         8474593         8482671                L               15       1   \n",
       "\n",
       "  isHomeTeam teamCode  \n",
       "0        0.0      NJD  \n",
       "1        0.0      NJD  \n",
       "2        0.0      NJD  \n",
       "3        1.0      BUF  \n",
       "4        1.0      BUF  "
      ]
     },
     "execution_count": 8,
     "metadata": {},
     "output_type": "execute_result"
    }
   ],
   "source": [
    "target_cols = [\n",
    "    'homeTeamCode',\n",
    "    'awayTeamCode',\n",
    "    'isPlayoffGame',\n",
    "    'time',\n",
    "    'period',\n",
    "    'team',\n",
    "    'location',\n",
    "    'event',\n",
    "    'goal',\n",
    "    'xCord',\n",
    "    'yCord',\n",
    "    'shotAngle',\n",
    "    'shotDistance',\n",
    "    'shotType',\n",
    "    'shotOnEmptyNet',\n",
    "    'shotRebound',\n",
    "    'shotRush',\n",
    "    'homeEmptyNet',\n",
    "    'awayEmptyNet',\n",
    "    'playerPositionThatDidEvent',\n",
    "    'goalieIdForShot',\n",
    "    'shooterPlayerId',\n",
    "    'shooterLeftRight',\n",
    "    'shooterTimeOnIce',\n",
    "    'offWing',\n",
    "    'isHomeTeam',\n",
    "    'teamCode'\n",
    "]\n",
    "\n",
    "shots_df[target_cols].head()"
   ]
  }
 ],
 "metadata": {
  "kernelspec": {
   "display_name": "venv",
   "language": "python",
   "name": "python3"
  },
  "language_info": {
   "codemirror_mode": {
    "name": "ipython",
    "version": 3
   },
   "file_extension": ".py",
   "mimetype": "text/x-python",
   "name": "python",
   "nbconvert_exporter": "python",
   "pygments_lexer": "ipython3",
   "version": "3.11.0"
  }
 },
 "nbformat": 4,
 "nbformat_minor": 2
}
